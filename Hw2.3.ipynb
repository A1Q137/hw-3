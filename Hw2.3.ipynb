{
 "cells": [
  {
   "cell_type": "markdown",
   "id": "02183d34",
   "metadata": {},
   "source": [
    "# Hw2.3.ipynb"
   ]
  },
  {
   "cell_type": "code",
   "execution_count": null,
   "id": "ca2c4d1d",
   "metadata": {},
   "outputs": [],
   "source": [
    "\n",
    "# Завдання 3: Аналіз топ-50 книг із Kaggle\n",
    "\n",
    "import pandas as pd\n",
    "import matplotlib.pyplot as plt\n",
    "\n",
    "# 1. Завантаження даних\n",
    "books_file = \"bestsellers_with_categories.csv\"\n",
    "books_df = pd.read_csv(books_file)\n",
    "\n",
    "# 2. Попередній огляд даних\n",
    "print(books_df.head())\n",
    "\n",
    "# 3. Розмір таблиці\n",
    "print(\"Shape:\", books_df.shape)\n",
    "\n",
    "# 4. Унікальні жанри\n",
    "print(\"Унікальні жанри:\", books_df['Genre'].unique())\n",
    "\n",
    "# 5. Гістограма розподілу цін\n",
    "books_df['Price'].plot(kind='hist', title='Розподіл цін')\n",
    "plt.xlabel('Ціна')\n",
    "plt.show()\n",
    "\n",
    "# 6. Найпопулярніша книга за відгуками\n",
    "top_reviews = books_df.iloc[books_df['Reviews'].idxmax()]\n",
    "print(\"Книга з найбільшою кількістю відгуків:\", top_reviews['Name'])\n",
    "\n",
    "# 7. Агрегування за жанрами\n",
    "genre_stats = books_df.groupby('Genre')['Price'].agg(['min', 'max', 'mean'])\n",
    "print(\"Статистика цін за жанрами:\")\n",
    "print(genre_stats)\n"
   ]
  }
 ],
 "metadata": {},
 "nbformat": 4,
 "nbformat_minor": 5
}
