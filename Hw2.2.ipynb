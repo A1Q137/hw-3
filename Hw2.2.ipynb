{
 "cells": [
  {
   "cell_type": "markdown",
   "id": "45f4adcd",
   "metadata": {},
   "source": [
    "# Hw2.2.ipynb"
   ]
  },
  {
   "cell_type": "code",
   "execution_count": null,
   "id": "a4bb21ef",
   "metadata": {},
   "outputs": [],
   "source": [
    "\n",
    "# Завдання 2: Аналіз файлу 2017_jun_final.csv\n",
    "\n",
    "import pandas as pd\n",
    "\n",
    "# 1. Завантаження даних\n",
    "survey_file = \"2017_jun_final.csv\"\n",
    "df = pd.read_csv(survey_file)\n",
    "\n",
    "# 2. Перевірка перших рядків\n",
    "print(df.head())\n",
    "\n",
    "# 3. Розмір таблиці\n",
    "print(\"Shape:\", df.shape)\n",
    "\n",
    "# 4. Типи даних\n",
    "print(df.dtypes)\n",
    "\n",
    "# 5. Частка пропусків\n",
    "print(\"Пропуски в даних:\")\n",
    "print(df.isnull().sum() / len(df))\n",
    "\n",
    "# 6. Видалення стовпців із пропусками, крім 'Мова програмування'\n",
    "df = df.dropna(axis=1, how='any', subset=['Мова програмування'])\n",
    "\n",
    "# 7. Видалення рядків із пропусками\n",
    "df = df.dropna()\n",
    "\n",
    "# 8. Створення таблиці для Python\n",
    "python_df = df[df['Мова програмування'].str.contains('Python', na=False)]\n",
    "print(\"Таблиця для Python спеціалістів:\")\n",
    "print(python_df.head())\n",
    "\n",
    "# 9. Групування за посадою\n",
    "grouped = python_df.groupby('Посада')['Зарплата.в.місяць'].agg(['min', 'max'])\n",
    "print(grouped)\n",
    "\n",
    "# 10. Збереження у файл\n",
    "python_df.to_csv(\"python_survey_analysis.csv\", index=False)\n"
   ]
  }
 ],
 "metadata": {},
 "nbformat": 4,
 "nbformat_minor": 5
}
